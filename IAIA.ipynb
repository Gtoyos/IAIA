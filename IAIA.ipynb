{
 "cells": [
  {
   "attachments": {},
   "cell_type": "markdown",
   "metadata": {},
   "source": [
    "# Kolmogorov complexity of CNN kernels\n",
    "Author: Guillermo TOYOS MARFURT"
   ]
  },
  {
   "cell_type": "code",
   "execution_count": 1,
   "metadata": {},
   "outputs": [],
   "source": [
    "#required imports\n",
    "import torch, torchvision\n",
    "from tqdm.notebook import tqdm as tqdm\n",
    "import matplotlib.pyplot as plt\n",
    "import gzip\n",
    "import torch.nn as nn\n",
    "import torch.nn.functional as F\n",
    "import torch.optim as optim\n",
    "import numpy as np\n",
    "import copy\n",
    "import os"
   ]
  },
  {
   "attachments": {},
   "cell_type": "markdown",
   "metadata": {},
   "source": [
    "### Load dataset"
   ]
  },
  {
   "cell_type": "code",
   "execution_count": 2,
   "metadata": {},
   "outputs": [
    {
     "name": "stdout",
     "output_type": "stream",
     "text": [
      "Label: tensor(4)\n"
     ]
    },
    {
     "data": {
      "image/png": "[encoded data removed]",
      "text/plain": [
       "<Figure size 640x480 with 1 Axes>"
      ]
     },
     "metadata": {},
     "output_type": "display_data"
    }
   ],
   "source": [
    "image_transform = torchvision.transforms.Compose([torchvision.transforms.ToTensor(),\n",
    "                                                    torchvision.transforms.Normalize((0.1307,), (0.3081,))\n",
    "                                                ])\n",
    "\n",
    "#image datasets\n",
    "train_dataset = torchvision.datasets.MNIST('dataset/', \n",
    "                                           train=True, \n",
    "                                           download=True,\n",
    "                                           transform=image_transform)\n",
    "test_dataset = torchvision.datasets.MNIST('dataset/', \n",
    "                                          train=False, \n",
    "                                          download=True,\n",
    "                                          transform=image_transform)\n",
    "\n",
    "#data loaders\n",
    "batch_size_train = 64 # We use a small batch size here for training\n",
    "train_loader = torch.utils.data.DataLoader(train_dataset,\n",
    "                                           batch_size=batch_size_train, \n",
    "                                           shuffle=True)\n",
    "test_loader = torch.utils.data.DataLoader(test_dataset,\n",
    "                                          batch_size=1024, \n",
    "                                          shuffle=True)\n",
    "\n",
    "# We can check the dataloader\n",
    "_, (example_datas, labels) = next(enumerate(test_loader))\n",
    "sample = example_datas[0][0]\n",
    "# show the data\n",
    "plt.imshow(sample, cmap='gray', interpolation='none')\n",
    "print(\"Label: \"+ str(labels[0]))"
   ]
  },
  {
   "attachments": {},
   "cell_type": "markdown",
   "metadata": {},
   "source": [
    "### Build the network"
   ]
  },
  {
   "cell_type": "code",
   "execution_count": 3,
   "metadata": {},
   "outputs": [],
   "source": [
    "class CNN(nn.Module):\n",
    "    def __init__(self):\n",
    "        super(CNN, self).__init__()\n",
    "        #input channel 1, output channel 10\n",
    "        self.conv1 = nn.Conv2d(1, 10, kernel_size=5, stride=1)\n",
    "        #input channel 10, output channel 20\n",
    "        self.conv2 = nn.Conv2d(10, 20, kernel_size=5, stride=1)\n",
    "        #dropout layer\n",
    "        self.conv2_drop = nn.Dropout2d()\n",
    "        #fully connected layer\n",
    "        self.fc1 = nn.Linear(320, 50)\n",
    "        self.fc2 = nn.Linear(50, 10)\n",
    "    def forward(self, x):\n",
    "        x = self.conv1(x)\n",
    "        x = F.max_pool2d(x, 2)\n",
    "        x = F.relu(x)\n",
    "        x = self.conv2(x)\n",
    "        x = self.conv2_drop(x)\n",
    "        x = F.max_pool2d(x, 2)\n",
    "        x = F.relu(x)\n",
    "        x = x.view(-1, 320)\n",
    "        x = self.fc1(x)\n",
    "        x = F.relu(x)\n",
    "        x = F.dropout(x)\n",
    "        x = self.fc2(x)\n",
    "        return F.log_softmax(x, dim=1)"
   ]
  },
  {
   "cell_type": "code",
   "execution_count": 4,
   "metadata": {},
   "outputs": [],
   "source": [
    "class MobileNetV1(nn.Module):\n",
    "    def __init__(self, ch_in, n_classes):\n",
    "        super(MobileNetV1, self).__init__()\n",
    "\n",
    "        def conv_bn(inp, oup, stride):\n",
    "            return nn.Sequential(\n",
    "                nn.Conv2d(inp, oup, 3, stride, 1, bias=False),\n",
    "                nn.BatchNorm2d(oup),\n",
    "                nn.ReLU(inplace=True)\n",
    "                )\n",
    "\n",
    "        def conv_dw(inp, oup, stride):\n",
    "            return nn.Sequential(\n",
    "                # dw\n",
    "                nn.Conv2d(inp, inp, 3, stride, 1, groups=inp, bias=False),\n",
    "                nn.BatchNorm2d(inp),\n",
    "                nn.ReLU(inplace=True),\n",
    "\n",
    "                # pw\n",
    "                nn.Conv2d(inp, oup, 1, 1, 0, bias=False),\n",
    "                nn.BatchNorm2d(oup),\n",
    "                nn.ReLU(inplace=True),\n",
    "                )\n",
    "\n",
    "        self.model = nn.Sequential(\n",
    "            conv_bn(ch_in, 32, 2),\n",
    "            conv_dw(32, 64, 1),\n",
    "            conv_dw(64, 128, 2),\n",
    "            conv_dw(128, 128, 1),\n",
    "            conv_dw(128, 256, 2),\n",
    "            conv_dw(256, 256, 1),\n",
    "            conv_dw(256, 512, 2),\n",
    "            conv_dw(512, 512, 1),\n",
    "            conv_dw(512, 512, 1),\n",
    "            conv_dw(512, 512, 1),\n",
    "            conv_dw(512, 512, 1),\n",
    "            conv_dw(512, 512, 1),\n",
    "            conv_dw(512, 1024, 2),\n",
    "            conv_dw(1024, 1024, 1),\n",
    "            nn.AdaptiveAvgPool2d(1)\n",
    "        )\n",
    "        self.fc = nn.Linear(1024, n_classes)\n",
    "\n",
    "    def forward(self, x):\n",
    "        x = self.model(x)\n",
    "        x = x.view(-1, 1024)\n",
    "        x = self.fc(x)\n",
    "        return x"
   ]
  },
  {
   "attachments": {},
   "cell_type": "markdown",
   "metadata": {},
   "source": [
    "### Define training algorithm"
   ]
  },
  {
   "cell_type": "code",
   "execution_count": 5,
   "metadata": {},
   "outputs": [],
   "source": [
    "## create model and optimizer\n",
    "learning_rate = 0.01\n",
    "momentum = 0.5\n",
    "device = torch.device(\"cuda:0\" if torch.cuda.is_available() else \"cpu\")\n",
    "model = CNN().to(device) # send model to GPU\n",
    "#model = MobileNetV1(1, 10).to(device) # send model to GPU\n",
    "optimizer = optim.SGD(model.parameters(), lr=learning_rate,\n",
    "                      momentum=momentum)"
   ]
  },
  {
   "cell_type": "code",
   "execution_count": 6,
   "metadata": {},
   "outputs": [],
   "source": [
    "#get weights\n",
    "def get_weights(model):\n",
    "    weights = []\n",
    "    for param in model.parameters():\n",
    "        if param.data.dim() == 4:\n",
    "            weights.append(param.data.detach().cpu().numpy())\n",
    "        #weights.append(param.data.detach().cpu().numpy())\n",
    "    return weights"
   ]
  },
  {
   "cell_type": "code",
   "execution_count": 7,
   "metadata": {},
   "outputs": [],
   "source": [
    "### Train and test errors\n",
    "train_errors = []\n",
    "test_errors = []\n",
    "acc = []\n",
    "net_ratio = []\n",
    "for i in range(len(get_weights(model))):\n",
    "    net_ratio.append([])\n",
    "\n",
    "##define train function\n",
    "def train(model, device, train_loader, optimizer, epoch):\n",
    "    model.train()\n",
    "    tk0 = tqdm(train_loader, total=int(len(train_loader)))\n",
    "    counter = 0\n",
    "    for batch_idx, (data, target) in enumerate(tk0):\n",
    "        data, target = data.to(device), target.to(device)\n",
    "        optimizer.zero_grad()\n",
    "        output = model(data)\n",
    "        loss = F.nll_loss(output, target)\n",
    "        loss.backward()\n",
    "        optimizer.step()\n",
    "        counter += 1\n",
    "        tk0.set_postfix(loss=(loss.item()*data.size(0) / (counter * train_loader.batch_size)))\n",
    "        if batch_idx % 100 == 0:\n",
    "            train_errors.append(loss.detach().cpu())\n",
    "            model_copy = copy.deepcopy(model)\n",
    "            for param in model_copy.parameters():\n",
    "                param.data[param.data.abs() < 0.05] = 0\n",
    "            test(model_copy, device, test_loader)\n",
    "\n",
    "##define test function\n",
    "def test(model, device, test_loader):\n",
    "    model.eval()\n",
    "    test_loss = 0\n",
    "    correct = 0\n",
    "    with torch.no_grad():\n",
    "        for data, target in test_loader:\n",
    "            data, target = data.to(device), target.to(device)\n",
    "            output = model(data)\n",
    "            test_loss += F.nll_loss(output, target, reduction='sum').item() # sum up batch loss\n",
    "            pred = output.argmax(dim=1, keepdim=True) # get the index of the max log-probability\n",
    "            correct += pred.eq(target.view_as(pred)).sum().item()\n",
    "    test_loss /= len(test_loader.dataset)\n",
    "    test_errors.append(test_loss)\n",
    "    acc.append(correct/len(test_loader.dataset))\n",
    "    for i,w in enumerate(get_weights(model)):\n",
    "        f = gzip.GzipFile(\"compress.gz\", \"w\")\n",
    "        np.save(file=f, arr=w)\n",
    "        f.close()\n",
    "        np.save('normal.npy', w)\n",
    "        compressed_size = os.path.getsize('compress.gz')\n",
    "        normal_size = os.path.getsize('normal.npy')\n",
    "        net_ratio[i].append(compressed_size/normal_size)\n",
    "        \n",
    "        os.remove('compress.gz')\n",
    "        os.remove('normal.npy')\n",
    "\n",
    "    #print('\\nTest set: Average loss: {:.4f}, Accuracy: {}/{} ({:.0f}%)\\n'.format(\n",
    "    #    test_loss, correct, len(test_loader.dataset),\n",
    "    #    100. * correct / len(test_loader.dataset)))"
   ]
  },
  {
   "cell_type": "code",
   "execution_count": 8,
   "metadata": {},
   "outputs": [
    {
     "data": {
      "application/vnd.jupyter.widget-view+json": {
       "model_id": "caa2ac9967124881990a748e55a14b59",
       "version_major": 2,
       "version_minor": 0
      },
      "text/plain": [
       "  0%|          | 0/938 [00:00<?, ?it/s]"
      ]
     },
     "metadata": {},
     "output_type": "display_data"
    },
    {
     "data": {
      "application/vnd.jupyter.widget-view+json": {
       "model_id": "bb7e4647902f48f3bff7c2c67872e72e",
       "version_major": 2,
       "version_minor": 0
      },
      "text/plain": [
       "  0%|          | 0/938 [00:00<?, ?it/s]"
      ]
     },
     "metadata": {},
     "output_type": "display_data"
    },
    {
     "data": {
      "application/vnd.jupyter.widget-view+json": {
       "model_id": "925a089528d5474fa51230628850c1c3",
       "version_major": 2,
       "version_minor": 0
      },
      "text/plain": [
       "  0%|          | 0/938 [00:00<?, ?it/s]"
      ]
     },
     "metadata": {},
     "output_type": "display_data"
    },
    {
     "data": {
      "application/vnd.jupyter.widget-view+json": {
       "model_id": "36bf165475464e23abd926d915543f52",
       "version_major": 2,
       "version_minor": 0
      },
      "text/plain": [
       "  0%|          | 0/938 [00:00<?, ?it/s]"
      ]
     },
     "metadata": {},
     "output_type": "display_data"
    },
    {
     "data": {
      "application/vnd.jupyter.widget-view+json": {
       "model_id": "376caff94f1646e6a951fec60ddbcfb9",
       "version_major": 2,
       "version_minor": 0
      },
      "text/plain": [
       "  0%|          | 0/938 [00:00<?, ?it/s]"
      ]
     },
     "metadata": {},
     "output_type": "display_data"
    },
    {
     "data": {
      "application/vnd.jupyter.widget-view+json": {
       "model_id": "e41769024b354d8194dffb918ed3b46a",
       "version_major": 2,
       "version_minor": 0
      },
      "text/plain": [
       "  0%|          | 0/938 [00:00<?, ?it/s]"
      ]
     },
     "metadata": {},
     "output_type": "display_data"
    },
    {
     "data": {
      "application/vnd.jupyter.widget-view+json": {
       "model_id": "5ce634a8cd2549168a254c6b60cd8605",
       "version_major": 2,
       "version_minor": 0
      },
      "text/plain": [
       "  0%|          | 0/938 [00:00<?, ?it/s]"
      ]
     },
     "metadata": {},
     "output_type": "display_data"
    },
    {
     "data": {
      "application/vnd.jupyter.widget-view+json": {
       "model_id": "4aabfc8cf5a443ef86485905062e8b26",
       "version_major": 2,
       "version_minor": 0
      },
      "text/plain": [
       "  0%|          | 0/938 [00:00<?, ?it/s]"
      ]
     },
     "metadata": {},
     "output_type": "display_data"
    },
    {
     "data": {
      "application/vnd.jupyter.widget-view+json": {
       "model_id": "cd032fccecdd4007ac236dfb53d73e4b",
       "version_major": 2,
       "version_minor": 0
      },
      "text/plain": [
       "  0%|          | 0/938 [00:00<?, ?it/s]"
      ]
     },
     "metadata": {},
     "output_type": "display_data"
    },
    {
     "data": {
      "application/vnd.jupyter.widget-view+json": {
       "model_id": "8c41fedb9bb2476aba75c4bcae8d1dc0",
       "version_major": 2,
       "version_minor": 0
      },
      "text/plain": [
       "  0%|          | 0/938 [00:00<?, ?it/s]"
      ]
     },
     "metadata": {},
     "output_type": "display_data"
    },
    {
     "data": {
      "application/vnd.jupyter.widget-view+json": {
       "model_id": "48d58da67509430cb128c3b73b06ee23",
       "version_major": 2,
       "version_minor": 0
      },
      "text/plain": [
       "  0%|          | 0/938 [00:00<?, ?it/s]"
      ]
     },
     "metadata": {},
     "output_type": "display_data"
    },
    {
     "data": {
      "application/vnd.jupyter.widget-view+json": {
       "model_id": "87fb9a9688d4468eba4108905557d25d",
       "version_major": 2,
       "version_minor": 0
      },
      "text/plain": [
       "  0%|          | 0/938 [00:00<?, ?it/s]"
      ]
     },
     "metadata": {},
     "output_type": "display_data"
    },
    {
     "data": {
      "application/vnd.jupyter.widget-view+json": {
       "model_id": "c6e5c1a3d8544fd896948f7c0a9381f1",
       "version_major": 2,
       "version_minor": 0
      },
      "text/plain": [
       "  0%|          | 0/938 [00:00<?, ?it/s]"
      ]
     },
     "metadata": {},
     "output_type": "display_data"
    },
    {
     "data": {
      "application/vnd.jupyter.widget-view+json": {
       "model_id": "0dac3011d2094686b73a250187f79b11",
       "version_major": 2,
       "version_minor": 0
      },
      "text/plain": [
       "  0%|          | 0/938 [00:00<?, ?it/s]"
      ]
     },
     "metadata": {},
     "output_type": "display_data"
    },
    {
     "data": {
      "application/vnd.jupyter.widget-view+json": {
       "model_id": "78f5b528ff27452eb9220fcc6e722c99",
       "version_major": 2,
       "version_minor": 0
      },
      "text/plain": [
       "  0%|          | 0/938 [00:00<?, ?it/s]"
      ]
     },
     "metadata": {},
     "output_type": "display_data"
    },
    {
     "data": {
      "application/vnd.jupyter.widget-view+json": {
       "model_id": "3011474bdce24691b4427208e1250d60",
       "version_major": 2,
       "version_minor": 0
      },
      "text/plain": [
       "  0%|          | 0/938 [00:00<?, ?it/s]"
      ]
     },
     "metadata": {},
     "output_type": "display_data"
    },
    {
     "data": {
      "application/vnd.jupyter.widget-view+json": {
       "model_id": "b0b145e012d2413ca1c833b61337ef55",
       "version_major": 2,
       "version_minor": 0
      },
      "text/plain": [
       "  0%|          | 0/938 [00:00<?, ?it/s]"
      ]
     },
     "metadata": {},
     "output_type": "display_data"
    },
    {
     "data": {
      "application/vnd.jupyter.widget-view+json": {
       "model_id": "006f6a1039204714919aee6c316cb151",
       "version_major": 2,
       "version_minor": 0
      },
      "text/plain": [
       "  0%|          | 0/938 [00:00<?, ?it/s]"
      ]
     },
     "metadata": {},
     "output_type": "display_data"
    },
    {
     "data": {
      "application/vnd.jupyter.widget-view+json": {
       "model_id": "3c01470edc394812a7bb482bb1fdd0b5",
       "version_major": 2,
       "version_minor": 0
      },
      "text/plain": [
       "  0%|          | 0/938 [00:00<?, ?it/s]"
      ]
     },
     "metadata": {},
     "output_type": "display_data"
    },
    {
     "data": {
      "application/vnd.jupyter.widget-view+json": {
       "model_id": "18626f3ff07a4e758ed7e8da6bddfa5a",
       "version_major": 2,
       "version_minor": 0
      },
      "text/plain": [
       "  0%|          | 0/938 [00:00<?, ?it/s]"
      ]
     },
     "metadata": {},
     "output_type": "display_data"
    },
    {
     "data": {
      "application/vnd.jupyter.widget-view+json": {
       "model_id": "a8a1ad1c3b31458d8541e0f879907f3e",
       "version_major": 2,
       "version_minor": 0
      },
      "text/plain": [
       "  0%|          | 0/938 [00:00<?, ?it/s]"
      ]
     },
     "metadata": {},
     "output_type": "display_data"
    },
    {
     "data": {
      "application/vnd.jupyter.widget-view+json": {
       "model_id": "c4c93c0552664f129b79db456ad8f9f6",
       "version_major": 2,
       "version_minor": 0
      },
      "text/plain": [
       "  0%|          | 0/938 [00:00<?, ?it/s]"
      ]
     },
     "metadata": {},
     "output_type": "display_data"
    },
    {
     "data": {
      "application/vnd.jupyter.widget-view+json": {
       "model_id": "844d8e8285b34415acf47856b9105dc1",
       "version_major": 2,
       "version_minor": 0
      },
      "text/plain": [
       "  0%|          | 0/938 [00:00<?, ?it/s]"
      ]
     },
     "metadata": {},
     "output_type": "display_data"
    },
    {
     "data": {
      "application/vnd.jupyter.widget-view+json": {
       "model_id": "e663d4ed24834e0f9e2ffb327d7687e9",
       "version_major": 2,
       "version_minor": 0
      },
      "text/plain": [
       "  0%|          | 0/938 [00:00<?, ?it/s]"
      ]
     },
     "metadata": {},
     "output_type": "display_data"
    },
    {
     "data": {
      "application/vnd.jupyter.widget-view+json": {
       "model_id": "f893e4d16e694243aad71b76ad936219",
       "version_major": 2,
       "version_minor": 0
      },
      "text/plain": [
       "  0%|          | 0/938 [00:00<?, ?it/s]"
      ]
     },
     "metadata": {},
     "output_type": "display_data"
    },
    {
     "data": {
      "application/vnd.jupyter.widget-view+json": {
       "model_id": "60cf08f61c3044bd840737d95c97d645",
       "version_major": 2,
       "version_minor": 0
      },
      "text/plain": [
       "  0%|          | 0/938 [00:00<?, ?it/s]"
      ]
     },
     "metadata": {},
     "output_type": "display_data"
    },
    {
     "data": {
      "application/vnd.jupyter.widget-view+json": {
       "model_id": "8f72681fb77e4e4d95e596c65aaaace3",
       "version_major": 2,
       "version_minor": 0
      },
      "text/plain": [
       "  0%|          | 0/938 [00:00<?, ?it/s]"
      ]
     },
     "metadata": {},
     "output_type": "display_data"
    },
    {
     "data": {
      "application/vnd.jupyter.widget-view+json": {
       "model_id": "3f9a99465ac44c6d87a9ca3bf999ad7c",
       "version_major": 2,
       "version_minor": 0
      },
      "text/plain": [
       "  0%|          | 0/938 [00:00<?, ?it/s]"
      ]
     },
     "metadata": {},
     "output_type": "display_data"
    },
    {
     "data": {
      "application/vnd.jupyter.widget-view+json": {
       "model_id": "c9db841772f044a3a95a8f702c7baf5d",
       "version_major": 2,
       "version_minor": 0
      },
      "text/plain": [
       "  0%|          | 0/938 [00:00<?, ?it/s]"
      ]
     },
     "metadata": {},
     "output_type": "display_data"
    },
    {
     "data": {
      "application/vnd.jupyter.widget-view+json": {
       "model_id": "d80c3815d55445ae9e006108d64fafaa",
       "version_major": 2,
       "version_minor": 0
      },
      "text/plain": [
       "  0%|          | 0/938 [00:00<?, ?it/s]"
      ]
     },
     "metadata": {},
     "output_type": "display_data"
    },
    {
     "data": {
      "application/vnd.jupyter.widget-view+json": {
       "model_id": "4843ab8932b64d3087a6bd8b4a39e4ad",
       "version_major": 2,
       "version_minor": 0
      },
      "text/plain": [
       "  0%|          | 0/938 [00:00<?, ?it/s]"
      ]
     },
     "metadata": {},
     "output_type": "display_data"
    },
    {
     "ename": "KeyboardInterrupt",
     "evalue": "",
     "output_type": "error",
     "traceback": [
      "\u001b[0;31m---------------------------------------------------------------------------\u001b[0m",
      "\u001b[0;31mKeyboardInterrupt\u001b[0m                         Traceback (most recent call last)",
      "\u001b[1;32m/Users/gtoyos/Documents/edu/Telecom/IAIA.ipynb Cell 12\u001b[0m in \u001b[0;36m3\n\u001b[1;32m      <a href='vscode-notebook-cell:/Users/gtoyos/Documents/edu/Telecom/IAIA.ipynb#X15sZmlsZQ%3D%3D?line=0'>1</a>\u001b[0m num_epoch \u001b[39m=\u001b[39m \u001b[39m50\u001b[39m\n\u001b[1;32m      <a href='vscode-notebook-cell:/Users/gtoyos/Documents/edu/Telecom/IAIA.ipynb#X15sZmlsZQ%3D%3D?line=1'>2</a>\u001b[0m \u001b[39mfor\u001b[39;00m epoch \u001b[39min\u001b[39;00m \u001b[39mrange\u001b[39m(\u001b[39m1\u001b[39m, num_epoch \u001b[39m+\u001b[39m \u001b[39m1\u001b[39m):\n\u001b[0;32m----> <a href='vscode-notebook-cell:/Users/gtoyos/Documents/edu/Telecom/IAIA.ipynb#X15sZmlsZQ%3D%3D?line=2'>3</a>\u001b[0m         train(model, device, train_loader, optimizer, epoch)\n\u001b[1;32m      <a href='vscode-notebook-cell:/Users/gtoyos/Documents/edu/Telecom/IAIA.ipynb#X15sZmlsZQ%3D%3D?line=3'>4</a>\u001b[0m         \u001b[39m#test(model, device, test_loader)\u001b[39;00m\n",
      "\u001b[1;32m/Users/gtoyos/Documents/edu/Telecom/IAIA.ipynb Cell 12\u001b[0m in \u001b[0;36m1\n\u001b[1;32m     <a href='vscode-notebook-cell:/Users/gtoyos/Documents/edu/Telecom/IAIA.ipynb#X15sZmlsZQ%3D%3D?line=11'>12</a>\u001b[0m tk0 \u001b[39m=\u001b[39m tqdm(train_loader, total\u001b[39m=\u001b[39m\u001b[39mint\u001b[39m(\u001b[39mlen\u001b[39m(train_loader)))\n\u001b[1;32m     <a href='vscode-notebook-cell:/Users/gtoyos/Documents/edu/Telecom/IAIA.ipynb#X15sZmlsZQ%3D%3D?line=12'>13</a>\u001b[0m counter \u001b[39m=\u001b[39m \u001b[39m0\u001b[39m\n\u001b[0;32m---> <a href='vscode-notebook-cell:/Users/gtoyos/Documents/edu/Telecom/IAIA.ipynb#X15sZmlsZQ%3D%3D?line=13'>14</a>\u001b[0m \u001b[39mfor\u001b[39;00m batch_idx, (data, target) \u001b[39min\u001b[39;00m \u001b[39menumerate\u001b[39m(tk0):\n\u001b[1;32m     <a href='vscode-notebook-cell:/Users/gtoyos/Documents/edu/Telecom/IAIA.ipynb#X15sZmlsZQ%3D%3D?line=14'>15</a>\u001b[0m     data, target \u001b[39m=\u001b[39m data\u001b[39m.\u001b[39mto(device), target\u001b[39m.\u001b[39mto(device)\n\u001b[1;32m     <a href='vscode-notebook-cell:/Users/gtoyos/Documents/edu/Telecom/IAIA.ipynb#X15sZmlsZQ%3D%3D?line=15'>16</a>\u001b[0m     optimizer\u001b[39m.\u001b[39mzero_grad()\n",
      "File \u001b[0;32m~/.local/lib/python3.10/site-packages/tqdm/notebook.py:259\u001b[0m, in \u001b[0;36mtqdm_notebook.__iter__\u001b[0;34m(self)\u001b[0m\n\u001b[1;32m    257\u001b[0m \u001b[39mtry\u001b[39;00m:\n\u001b[1;32m    258\u001b[0m     it \u001b[39m=\u001b[39m \u001b[39msuper\u001b[39m(tqdm_notebook, \u001b[39mself\u001b[39m)\u001b[39m.\u001b[39m\u001b[39m__iter__\u001b[39m()\n\u001b[0;32m--> 259\u001b[0m     \u001b[39mfor\u001b[39;00m obj \u001b[39min\u001b[39;00m it:\n\u001b[1;32m    260\u001b[0m         \u001b[39m# return super(tqdm...) will not catch exception\u001b[39;00m\n\u001b[1;32m    261\u001b[0m         \u001b[39myield\u001b[39;00m obj\n\u001b[1;32m    262\u001b[0m \u001b[39m# NB: except ... [ as ...] breaks IPython async KeyboardInterrupt\u001b[39;00m\n",
      "File \u001b[0;32m~/.local/lib/python3.10/site-packages/tqdm/std.py:1195\u001b[0m, in \u001b[0;36mtqdm.__iter__\u001b[0;34m(self)\u001b[0m\n\u001b[1;32m   1192\u001b[0m time \u001b[39m=\u001b[39m \u001b[39mself\u001b[39m\u001b[39m.\u001b[39m_time\n\u001b[1;32m   1194\u001b[0m \u001b[39mtry\u001b[39;00m:\n\u001b[0;32m-> 1195\u001b[0m     \u001b[39mfor\u001b[39;00m obj \u001b[39min\u001b[39;00m iterable:\n\u001b[1;32m   1196\u001b[0m         \u001b[39myield\u001b[39;00m obj\n\u001b[1;32m   1197\u001b[0m         \u001b[39m# Update and possibly print the progressbar.\u001b[39;00m\n\u001b[1;32m   1198\u001b[0m         \u001b[39m# Note: does not call self.update(1) for speed optimisation.\u001b[39;00m\n",
      "File \u001b[0;32m~/.local/lib/python3.10/site-packages/torch/utils/data/dataloader.py:628\u001b[0m, in \u001b[0;36m_BaseDataLoaderIter.__next__\u001b[0;34m(self)\u001b[0m\n\u001b[1;32m    625\u001b[0m \u001b[39mif\u001b[39;00m \u001b[39mself\u001b[39m\u001b[39m.\u001b[39m_sampler_iter \u001b[39mis\u001b[39;00m \u001b[39mNone\u001b[39;00m:\n\u001b[1;32m    626\u001b[0m     \u001b[39m# TODO(https://github.com/pytorch/pytorch/issues/76750)\u001b[39;00m\n\u001b[1;32m    627\u001b[0m     \u001b[39mself\u001b[39m\u001b[39m.\u001b[39m_reset()  \u001b[39m# type: ignore[call-arg]\u001b[39;00m\n\u001b[0;32m--> 628\u001b[0m data \u001b[39m=\u001b[39m \u001b[39mself\u001b[39;49m\u001b[39m.\u001b[39;49m_next_data()\n\u001b[1;32m    629\u001b[0m \u001b[39mself\u001b[39m\u001b[39m.\u001b[39m_num_yielded \u001b[39m+\u001b[39m\u001b[39m=\u001b[39m \u001b[39m1\u001b[39m\n\u001b[1;32m    630\u001b[0m \u001b[39mif\u001b[39;00m \u001b[39mself\u001b[39m\u001b[39m.\u001b[39m_dataset_kind \u001b[39m==\u001b[39m _DatasetKind\u001b[39m.\u001b[39mIterable \u001b[39mand\u001b[39;00m \\\n\u001b[1;32m    631\u001b[0m         \u001b[39mself\u001b[39m\u001b[39m.\u001b[39m_IterableDataset_len_called \u001b[39mis\u001b[39;00m \u001b[39mnot\u001b[39;00m \u001b[39mNone\u001b[39;00m \u001b[39mand\u001b[39;00m \\\n\u001b[1;32m    632\u001b[0m         \u001b[39mself\u001b[39m\u001b[39m.\u001b[39m_num_yielded \u001b[39m>\u001b[39m \u001b[39mself\u001b[39m\u001b[39m.\u001b[39m_IterableDataset_len_called:\n",
      "File \u001b[0;32m~/.local/lib/python3.10/site-packages/torch/utils/data/dataloader.py:671\u001b[0m, in \u001b[0;36m_SingleProcessDataLoaderIter._next_data\u001b[0;34m(self)\u001b[0m\n\u001b[1;32m    669\u001b[0m \u001b[39mdef\u001b[39;00m \u001b[39m_next_data\u001b[39m(\u001b[39mself\u001b[39m):\n\u001b[1;32m    670\u001b[0m     index \u001b[39m=\u001b[39m \u001b[39mself\u001b[39m\u001b[39m.\u001b[39m_next_index()  \u001b[39m# may raise StopIteration\u001b[39;00m\n\u001b[0;32m--> 671\u001b[0m     data \u001b[39m=\u001b[39m \u001b[39mself\u001b[39;49m\u001b[39m.\u001b[39;49m_dataset_fetcher\u001b[39m.\u001b[39;49mfetch(index)  \u001b[39m# may raise StopIteration\u001b[39;00m\n\u001b[1;32m    672\u001b[0m     \u001b[39mif\u001b[39;00m \u001b[39mself\u001b[39m\u001b[39m.\u001b[39m_pin_memory:\n\u001b[1;32m    673\u001b[0m         data \u001b[39m=\u001b[39m _utils\u001b[39m.\u001b[39mpin_memory\u001b[39m.\u001b[39mpin_memory(data, \u001b[39mself\u001b[39m\u001b[39m.\u001b[39m_pin_memory_device)\n",
      "File \u001b[0;32m~/.local/lib/python3.10/site-packages/torch/utils/data/_utils/fetch.py:58\u001b[0m, in \u001b[0;36m_MapDatasetFetcher.fetch\u001b[0;34m(self, possibly_batched_index)\u001b[0m\n\u001b[1;32m     56\u001b[0m         data \u001b[39m=\u001b[39m \u001b[39mself\u001b[39m\u001b[39m.\u001b[39mdataset\u001b[39m.\u001b[39m__getitems__(possibly_batched_index)\n\u001b[1;32m     57\u001b[0m     \u001b[39melse\u001b[39;00m:\n\u001b[0;32m---> 58\u001b[0m         data \u001b[39m=\u001b[39m [\u001b[39mself\u001b[39m\u001b[39m.\u001b[39mdataset[idx] \u001b[39mfor\u001b[39;00m idx \u001b[39min\u001b[39;00m possibly_batched_index]\n\u001b[1;32m     59\u001b[0m \u001b[39melse\u001b[39;00m:\n\u001b[1;32m     60\u001b[0m     data \u001b[39m=\u001b[39m \u001b[39mself\u001b[39m\u001b[39m.\u001b[39mdataset[possibly_batched_index]\n",
      "File \u001b[0;32m~/.local/lib/python3.10/site-packages/torch/utils/data/_utils/fetch.py:58\u001b[0m, in \u001b[0;36m<listcomp>\u001b[0;34m(.0)\u001b[0m\n\u001b[1;32m     56\u001b[0m         data \u001b[39m=\u001b[39m \u001b[39mself\u001b[39m\u001b[39m.\u001b[39mdataset\u001b[39m.\u001b[39m__getitems__(possibly_batched_index)\n\u001b[1;32m     57\u001b[0m     \u001b[39melse\u001b[39;00m:\n\u001b[0;32m---> 58\u001b[0m         data \u001b[39m=\u001b[39m [\u001b[39mself\u001b[39;49m\u001b[39m.\u001b[39;49mdataset[idx] \u001b[39mfor\u001b[39;00m idx \u001b[39min\u001b[39;00m possibly_batched_index]\n\u001b[1;32m     59\u001b[0m \u001b[39melse\u001b[39;00m:\n\u001b[1;32m     60\u001b[0m     data \u001b[39m=\u001b[39m \u001b[39mself\u001b[39m\u001b[39m.\u001b[39mdataset[possibly_batched_index]\n",
      "File \u001b[0;32m~/.local/lib/python3.10/site-packages/torchvision/datasets/mnist.py:145\u001b[0m, in \u001b[0;36mMNIST.__getitem__\u001b[0;34m(self, index)\u001b[0m\n\u001b[1;32m    142\u001b[0m img \u001b[39m=\u001b[39m Image\u001b[39m.\u001b[39mfromarray(img\u001b[39m.\u001b[39mnumpy(), mode\u001b[39m=\u001b[39m\u001b[39m\"\u001b[39m\u001b[39mL\u001b[39m\u001b[39m\"\u001b[39m)\n\u001b[1;32m    144\u001b[0m \u001b[39mif\u001b[39;00m \u001b[39mself\u001b[39m\u001b[39m.\u001b[39mtransform \u001b[39mis\u001b[39;00m \u001b[39mnot\u001b[39;00m \u001b[39mNone\u001b[39;00m:\n\u001b[0;32m--> 145\u001b[0m     img \u001b[39m=\u001b[39m \u001b[39mself\u001b[39;49m\u001b[39m.\u001b[39;49mtransform(img)\n\u001b[1;32m    147\u001b[0m \u001b[39mif\u001b[39;00m \u001b[39mself\u001b[39m\u001b[39m.\u001b[39mtarget_transform \u001b[39mis\u001b[39;00m \u001b[39mnot\u001b[39;00m \u001b[39mNone\u001b[39;00m:\n\u001b[1;32m    148\u001b[0m     target \u001b[39m=\u001b[39m \u001b[39mself\u001b[39m\u001b[39m.\u001b[39mtarget_transform(target)\n",
      "File \u001b[0;32m~/.local/lib/python3.10/site-packages/torchvision/transforms/transforms.py:95\u001b[0m, in \u001b[0;36mCompose.__call__\u001b[0;34m(self, img)\u001b[0m\n\u001b[1;32m     93\u001b[0m \u001b[39mdef\u001b[39;00m \u001b[39m__call__\u001b[39m(\u001b[39mself\u001b[39m, img):\n\u001b[1;32m     94\u001b[0m     \u001b[39mfor\u001b[39;00m t \u001b[39min\u001b[39;00m \u001b[39mself\u001b[39m\u001b[39m.\u001b[39mtransforms:\n\u001b[0;32m---> 95\u001b[0m         img \u001b[39m=\u001b[39m t(img)\n\u001b[1;32m     96\u001b[0m     \u001b[39mreturn\u001b[39;00m img\n",
      "File \u001b[0;32m~/.local/lib/python3.10/site-packages/torchvision/transforms/transforms.py:135\u001b[0m, in \u001b[0;36mToTensor.__call__\u001b[0;34m(self, pic)\u001b[0m\n\u001b[1;32m    127\u001b[0m \u001b[39mdef\u001b[39;00m \u001b[39m__call__\u001b[39m(\u001b[39mself\u001b[39m, pic):\n\u001b[1;32m    128\u001b[0m     \u001b[39m\"\"\"\u001b[39;00m\n\u001b[1;32m    129\u001b[0m \u001b[39m    Args:\u001b[39;00m\n\u001b[1;32m    130\u001b[0m \u001b[39m        pic (PIL Image or numpy.ndarray): Image to be converted to tensor.\u001b[39;00m\n\u001b[0;32m   (...)\u001b[0m\n\u001b[1;32m    133\u001b[0m \u001b[39m        Tensor: Converted image.\u001b[39;00m\n\u001b[1;32m    134\u001b[0m \u001b[39m    \"\"\"\u001b[39;00m\n\u001b[0;32m--> 135\u001b[0m     \u001b[39mreturn\u001b[39;00m F\u001b[39m.\u001b[39;49mto_tensor(pic)\n",
      "File \u001b[0;32m~/.local/lib/python3.10/site-packages/torchvision/transforms/functional.py:171\u001b[0m, in \u001b[0;36mto_tensor\u001b[0;34m(pic)\u001b[0m\n\u001b[1;32m    169\u001b[0m img \u001b[39m=\u001b[39m img\u001b[39m.\u001b[39mpermute((\u001b[39m2\u001b[39m, \u001b[39m0\u001b[39m, \u001b[39m1\u001b[39m))\u001b[39m.\u001b[39mcontiguous()\n\u001b[1;32m    170\u001b[0m \u001b[39mif\u001b[39;00m \u001b[39misinstance\u001b[39m(img, torch\u001b[39m.\u001b[39mByteTensor):\n\u001b[0;32m--> 171\u001b[0m     \u001b[39mreturn\u001b[39;00m img\u001b[39m.\u001b[39;49mto(dtype\u001b[39m=\u001b[39;49mdefault_float_dtype)\u001b[39m.\u001b[39;49mdiv(\u001b[39m255\u001b[39;49m)\n\u001b[1;32m    172\u001b[0m \u001b[39melse\u001b[39;00m:\n\u001b[1;32m    173\u001b[0m     \u001b[39mreturn\u001b[39;00m img\n",
      "\u001b[0;31mKeyboardInterrupt\u001b[0m: "
     ]
    }
   ],
   "source": [
    "num_epoch = 50\n",
    "for epoch in range(1, num_epoch + 1):\n",
    "        train(model, device, train_loader, optimizer, epoch)\n",
    "        #test(model, device, test_loader)"
   ]
  },
  {
   "cell_type": "code",
   "execution_count": 9,
   "metadata": {},
   "outputs": [
    {
     "data": {
      "image/png": "[encoded data removed]",
      "text/plain": [
       "<Figure size 640x480 with 1 Axes>"
      ]
     },
     "metadata": {},
     "output_type": "display_data"
    }
   ],
   "source": [
    "#plot the train and test errors\n",
    "type(train_errors)\n",
    "plt.plot(train_errors, label='Train loss')\n",
    "plt.plot(test_errors, label='Test loss')\n",
    "plt.xlabel('Iteration')\n",
    "plt.ylabel('NNL Loss')\n",
    "plt.title('Evolution of train and test loss during training')\n",
    "plt.legend()\n",
    "plt.show()\n"
   ]
  },
  {
   "cell_type": "code",
   "execution_count": 10,
   "metadata": {},
   "outputs": [
    {
     "data": {
      "image/png": "[encoded data removed]",
      "text/plain": [
       "<Figure size 640x480 with 1 Axes>"
      ]
     },
     "metadata": {},
     "output_type": "display_data"
    }
   ],
   "source": [
    "#PLOT ACC  \n",
    "plt.plot(acc, label='Accuracy')\n",
    "plt.xlabel('Iteration')\n",
    "plt.ylabel('Accuracy')\n",
    "plt.title('Evolution of accuracy during training')\n",
    "plt.legend()\n",
    "plt.show()\n"
   ]
  },
  {
   "cell_type": "code",
   "execution_count": 11,
   "metadata": {},
   "outputs": [
    {
     "data": {
      "image/png": "[encoded data removed]",
      "text/plain": [
       "<Figure size 640x480 with 1 Axes>"
      ]
     },
     "metadata": {},
     "output_type": "display_data"
    }
   ],
   "source": [
    "#plot each sublist of net_ratio\n",
    "for i in range(len(net_ratio)):\n",
    "    plt.plot(net_ratio[i], label='Layer {}'.format(i))\n",
    "\n",
    "plt.xlabel('Iteration')\n",
    "plt.ylabel('Compression ratio')\n",
    "plt.title('Evolution of the compression ratio during training')\n",
    "plt.legend()\n",
    "plt.show()"
   ]
  },
  {
   "cell_type": "code",
   "execution_count": 12,
   "metadata": {},
   "outputs": [
    {
     "data": {
      "text/plain": [
       "array([[[[ 4.50627506e-02,  4.10650037e-02, -2.26644091e-02,\n",
       "           1.15749035e-02, -9.75458324e-02],\n",
       "         [ 5.85005037e-04, -5.10862581e-02,  5.30243367e-02,\n",
       "           1.40669018e-01,  3.14068161e-02],\n",
       "         [-6.84040040e-02, -6.88043013e-02, -1.49841523e-02,\n",
       "          -1.57688465e-02, -3.93068716e-02],\n",
       "         [-3.70342471e-02, -1.22900762e-01, -7.14368895e-02,\n",
       "          -5.18227555e-02, -7.44250566e-02],\n",
       "         [-2.80508585e-02,  2.50941725e-03,  5.02386801e-02,\n",
       "          -1.67879704e-02, -1.69195812e-02]],\n",
       "\n",
       "        [[-1.11259826e-01,  3.22141452e-04, -7.94731826e-02,\n",
       "          -8.31994563e-02,  1.12640476e-02],\n",
       "         [-4.52715270e-02,  1.28719077e-01,  1.00125894e-01,\n",
       "           1.35384053e-02, -2.03406494e-02],\n",
       "         [ 2.22504213e-01, -4.05609757e-02, -1.60561278e-02,\n",
       "          -1.36829346e-01, -2.63051033e-01],\n",
       "         [ 2.95720220e-01,  4.72345240e-02, -6.41818047e-02,\n",
       "          -1.35005061e-02, -8.26230049e-02],\n",
       "         [ 2.40352422e-01,  1.12263814e-01, -2.49020662e-02,\n",
       "          -4.69440669e-02, -5.65168820e-02]],\n",
       "\n",
       "        [[ 6.85225725e-02, -2.51137950e-02,  5.68851307e-02,\n",
       "           7.42399320e-02,  1.36145011e-01],\n",
       "         [ 1.67823002e-01,  4.00347169e-03,  9.67172254e-03,\n",
       "           4.68975641e-02,  1.72484532e-01],\n",
       "         [-2.59399749e-02, -9.09872130e-02, -9.53349993e-02,\n",
       "          -1.24263138e-01,  2.23717354e-02],\n",
       "         [-2.15572920e-02, -1.20116204e-01, -1.66817024e-01,\n",
       "          -1.96962371e-01, -1.17278248e-01],\n",
       "         [-7.08656758e-02, -3.32336538e-02,  5.35019254e-03,\n",
       "           4.85341176e-02,  2.06201300e-02]],\n",
       "\n",
       "        ...,\n",
       "\n",
       "        [[ 2.09587262e-04, -2.73913015e-02,  6.65274858e-02,\n",
       "           3.56603079e-02,  3.94910499e-02],\n",
       "         [-6.91397339e-02,  3.57675203e-03, -4.67893407e-02,\n",
       "           3.34641151e-02,  4.83464338e-02],\n",
       "         [-1.39560029e-02,  2.75622606e-02,  1.11169089e-02,\n",
       "          -5.14368378e-02, -5.84461614e-02],\n",
       "         [ 2.03583390e-02,  4.10200767e-02,  9.12831537e-03,\n",
       "          -2.03982089e-02, -6.48724735e-02],\n",
       "         [ 5.94784170e-02,  1.13375615e-02, -2.84240320e-02,\n",
       "          -5.57185039e-02, -4.73997444e-02]],\n",
       "\n",
       "        [[-1.52811751e-01, -6.18908368e-02, -4.15750258e-02,\n",
       "           3.12766507e-02,  2.20043808e-02],\n",
       "         [-6.64892718e-02,  1.11525550e-01, -7.09303245e-02,\n",
       "          -8.72356147e-02, -6.90996274e-02],\n",
       "         [ 4.84373719e-02,  4.24807072e-02,  7.25910664e-02,\n",
       "           8.09772871e-03, -6.88079698e-03],\n",
       "         [ 4.94096428e-02,  2.32376885e-02,  4.45125662e-02,\n",
       "           3.30228508e-02,  9.02864709e-02],\n",
       "         [-5.74729126e-03,  4.61365283e-02, -4.70113941e-02,\n",
       "           3.43026705e-02,  5.67245521e-02]],\n",
       "\n",
       "        [[ 1.29054040e-02, -2.31517628e-02,  1.26567677e-01,\n",
       "           1.18817665e-01, -1.26820505e-01],\n",
       "         [ 2.49576243e-03,  5.24053648e-02,  1.83587819e-01,\n",
       "           1.84010923e-01,  2.28023101e-02],\n",
       "         [ 1.70658767e-01,  5.54947481e-02,  1.00355618e-01,\n",
       "           3.14679146e-02,  6.72418671e-03],\n",
       "         [ 1.16632812e-01, -8.65868852e-02, -4.45824414e-02,\n",
       "          -8.53859410e-02, -1.48032447e-02],\n",
       "         [ 1.01769120e-01,  5.87301627e-02,  1.06375702e-02,\n",
       "           6.13601133e-02,  1.20166065e-02]]],\n",
       "\n",
       "\n",
       "       [[[-8.34920630e-02, -1.36197552e-01, -5.39385974e-02,\n",
       "           8.65384471e-04,  6.92079291e-02],\n",
       "         [ 8.36760625e-02,  3.83738838e-02,  1.26349986e-01,\n",
       "           1.23526603e-02,  1.14598207e-01],\n",
       "         [ 1.18264526e-01,  4.49726880e-02,  7.56862536e-02,\n",
       "           1.66247357e-02,  8.74234177e-03],\n",
       "         [ 3.15148719e-02,  2.81431600e-02,  1.13311604e-01,\n",
       "           6.28246516e-02, -7.38338158e-02],\n",
       "         [-6.92745298e-02,  8.98873433e-03, -6.73081772e-03,\n",
       "           1.04077731e-03, -7.85598457e-02]],\n",
       "\n",
       "        [[-5.44800889e-03,  1.03566833e-01,  2.34758835e-02,\n",
       "          -1.09968662e-01, -1.53537780e-01],\n",
       "         [-3.55359018e-02, -2.10831780e-02, -1.48604125e-01,\n",
       "          -1.44037694e-01, -1.29460543e-01],\n",
       "         [-2.21969709e-02, -2.07362950e-01, -2.62467682e-01,\n",
       "          -1.91640377e-01, -6.14917837e-02],\n",
       "         [ 2.14541256e-02, -2.12592050e-01, -1.86245173e-01,\n",
       "           1.10287383e-01,  1.41270712e-01],\n",
       "         [ 4.18453291e-02, -1.37312725e-01, -9.41733494e-02,\n",
       "           4.93088551e-02, -5.22252619e-02]],\n",
       "\n",
       "        [[-1.83545887e-01, -1.86633930e-01, -7.95879439e-02,\n",
       "          -6.74740132e-03,  5.45204617e-02],\n",
       "         [-1.70117497e-01, -1.06533147e-01, -4.97509874e-02,\n",
       "           1.67642292e-02, -2.42485888e-02],\n",
       "         [-1.30449817e-01, -6.38753623e-02, -5.42621240e-02,\n",
       "           8.82013440e-02, -2.64877453e-02],\n",
       "         [-1.68887861e-02,  6.68762391e-03,  8.49455893e-02,\n",
       "           1.14177711e-01, -9.69082043e-02],\n",
       "         [-8.60102475e-02,  3.70347649e-02,  1.16323523e-01,\n",
       "           1.02058046e-01, -1.26587719e-01]],\n",
       "\n",
       "        ...,\n",
       "\n",
       "        [[-9.55303982e-02,  9.41300616e-02,  4.59303036e-02,\n",
       "           3.53772528e-02, -1.01014100e-01],\n",
       "         [-7.62949139e-02,  7.51656368e-02,  2.38989457e-03,\n",
       "           1.18745789e-02, -3.06729898e-02],\n",
       "         [ 4.31712950e-04,  1.09624848e-01,  1.64227076e-02,\n",
       "          -6.55565634e-02,  4.16349657e-02],\n",
       "         [ 1.09668314e-01,  1.38071226e-02, -2.50704698e-02,\n",
       "           2.06736941e-03,  4.09035794e-02],\n",
       "         [-7.54668564e-02, -6.54337183e-02, -1.40455579e-02,\n",
       "          -4.69218008e-02,  7.83194676e-02]],\n",
       "\n",
       "        [[-1.26469493e-01, -1.34406136e-02,  6.80826902e-02,\n",
       "           4.46599908e-02,  1.18518151e-01],\n",
       "         [-6.10293262e-02, -4.62000333e-02,  1.38500854e-01,\n",
       "           1.55193165e-01, -2.81463843e-02],\n",
       "         [-3.39973159e-02, -1.19274221e-01,  3.32649201e-02,\n",
       "           1.04248904e-01,  1.84589699e-01],\n",
       "         [-2.90423427e-02, -8.16772282e-02, -2.53459457e-02,\n",
       "           5.28224334e-02,  9.63616371e-02],\n",
       "         [-1.55214295e-01, -1.27825990e-01,  1.83648579e-02,\n",
       "           1.82118565e-02,  1.01714581e-01]],\n",
       "\n",
       "        [[-1.63652580e-02, -3.85205774e-03,  3.62423696e-02,\n",
       "          -1.55839371e-02, -8.49974155e-02],\n",
       "         [-9.92443934e-02, -7.90984929e-02, -8.45708996e-02,\n",
       "          -1.50335776e-02, -7.61396885e-02],\n",
       "         [ 8.20294619e-02, -5.19871116e-02,  4.07119691e-02,\n",
       "          -1.24727041e-01, -1.46995962e-01],\n",
       "         [-2.86809225e-02, -1.95205864e-02, -7.89129455e-03,\n",
       "           6.11984581e-02, -8.69603269e-03],\n",
       "         [-1.95181668e-02, -1.16888452e-02,  2.59235203e-02,\n",
       "           1.62995771e-01, -2.04214975e-02]]],\n",
       "\n",
       "\n",
       "       [[[-6.00294955e-02, -9.81759001e-03,  2.03452986e-02,\n",
       "          -1.94264948e-02, -5.92689915e-03],\n",
       "         [-1.23102300e-01, -1.18704187e-02, -2.46407446e-02,\n",
       "          -6.27646446e-02,  3.39085460e-02],\n",
       "         [ 1.79512966e-02, -3.96834686e-02,  5.09570166e-02,\n",
       "          -1.00810178e-01, -3.30819562e-02],\n",
       "         [-8.19964521e-03,  2.81668967e-03,  5.01513481e-02,\n",
       "           1.84119958e-02, -1.29239470e-01],\n",
       "         [-4.69190963e-02,  1.02678845e-02,  2.18400382e-03,\n",
       "          -9.87923369e-02, -1.42334327e-01]],\n",
       "\n",
       "        [[ 1.03110723e-01,  8.86226594e-02,  3.21499668e-02,\n",
       "          -9.10825878e-02, -1.69856697e-01],\n",
       "         [ 9.52875838e-02,  8.01268667e-02,  2.11029667e-02,\n",
       "           6.36008829e-02,  3.20771784e-02],\n",
       "         [ 4.87022363e-02,  1.42926544e-01,  8.72788653e-02,\n",
       "           8.26124251e-02,  1.75050944e-01],\n",
       "         [ 8.42984095e-02,  4.07465138e-02,  1.31562408e-02,\n",
       "           2.30983831e-02,  1.28182858e-01],\n",
       "         [ 9.27086845e-02,  5.44798113e-02,  1.06263414e-01,\n",
       "           1.03759468e-01,  4.65862500e-03]],\n",
       "\n",
       "        [[ 8.93129734e-04,  1.15005532e-02, -1.11463867e-01,\n",
       "          -7.17676505e-02, -1.74065307e-01],\n",
       "         [-7.45436028e-02, -1.16145030e-01, -1.80659413e-01,\n",
       "          -2.00344712e-01, -1.42008767e-01],\n",
       "         [-2.93285586e-02,  5.82368113e-02, -8.46404061e-02,\n",
       "          -7.43474364e-02,  1.14161707e-02],\n",
       "         [ 3.20335999e-02,  7.46169463e-02, -1.46069620e-02,\n",
       "           5.63883893e-02, -3.07653360e-02],\n",
       "         [ 5.78763857e-02,  3.37516740e-02, -9.86266043e-03,\n",
       "           1.72017459e-02, -1.07212504e-02]],\n",
       "\n",
       "        ...,\n",
       "\n",
       "        [[-2.76035201e-02, -1.89867313e-03,  2.90493388e-02,\n",
       "           7.19813034e-02,  8.62884596e-02],\n",
       "         [-1.19767696e-01,  2.30151489e-02,  2.94035487e-02,\n",
       "          -4.33561690e-02, -3.66810448e-02],\n",
       "         [-4.51227687e-02,  4.05643024e-02, -8.15827027e-02,\n",
       "          -4.78549041e-02, -1.18243851e-01],\n",
       "         [-1.24220610e-01, -3.71343754e-02, -4.09394465e-02,\n",
       "          -1.09342664e-01, -1.24935187e-01],\n",
       "         [-8.27778131e-03, -1.49974003e-02, -5.25123365e-02,\n",
       "          -1.56028010e-03, -1.38946706e-02]],\n",
       "\n",
       "        [[ 1.11482099e-01,  9.48976353e-02,  1.27663240e-01,\n",
       "           5.01159765e-02,  1.02926686e-01],\n",
       "         [ 5.25324009e-02,  2.49160780e-03,  6.03533015e-02,\n",
       "           1.89698920e-01,  1.09311089e-01],\n",
       "         [ 1.01407161e-02, -6.04997426e-02, -5.95454276e-02,\n",
       "           4.36325707e-02,  1.44538432e-01],\n",
       "         [ 7.59299845e-04,  1.36482213e-02, -4.00873385e-02,\n",
       "           1.03652343e-01, -4.40121442e-02],\n",
       "         [ 2.41021141e-02, -6.48465287e-03,  1.00008093e-01,\n",
       "           2.85403803e-02,  6.43253848e-02]],\n",
       "\n",
       "        [[ 5.49875386e-02, -2.15952285e-02, -1.50468230e-01,\n",
       "          -5.04010431e-02, -8.44859111e-04],\n",
       "         [-1.20070651e-02,  1.94320083e-02, -8.92264321e-02,\n",
       "          -1.48273669e-02,  1.13739464e-02],\n",
       "         [-1.13755707e-02,  1.17570646e-01,  7.52807558e-02,\n",
       "           5.74116558e-02,  6.79588243e-02],\n",
       "         [ 7.11400509e-02,  1.62439793e-02,  1.54151589e-01,\n",
       "           1.23408496e-01,  8.37456211e-02],\n",
       "         [ 5.86269647e-02,  1.14494935e-02,  7.75768608e-02,\n",
       "           9.52861086e-02, -3.02098710e-02]]],\n",
       "\n",
       "\n",
       "       ...,\n",
       "\n",
       "\n",
       "       [[[ 1.19944543e-01,  5.24146520e-02,  6.02474138e-02,\n",
       "           3.69997253e-03, -2.10489631e-02],\n",
       "         [ 3.07522807e-02,  1.59746539e-02, -1.45569257e-02,\n",
       "           8.43536258e-02,  1.25692673e-02],\n",
       "         [ 9.83024202e-03,  3.83454710e-02, -2.99746473e-03,\n",
       "           8.36666226e-02, -9.51793268e-02],\n",
       "         [-2.78792176e-02,  3.08929607e-02, -1.31670292e-02,\n",
       "           1.82916559e-02, -2.36106385e-02],\n",
       "         [-7.14544440e-03, -6.02639914e-02, -2.19146647e-02,\n",
       "          -4.59479280e-02, -3.20696458e-02]],\n",
       "\n",
       "        [[-2.77268258e-03, -6.18072832e-03,  4.51042503e-02,\n",
       "           2.76545379e-02, -7.64148459e-02],\n",
       "         [-9.52455327e-02, -5.77890873e-02, -5.24407718e-03,\n",
       "          -2.71237828e-03, -4.30925414e-02],\n",
       "         [-1.09773926e-01, -4.25516367e-02, -7.62165934e-02,\n",
       "          -9.56329331e-02, -1.32549435e-01],\n",
       "         [-4.04902846e-02, -2.95806825e-02, -1.09242229e-03,\n",
       "          -9.96685848e-02, -8.55570585e-02],\n",
       "         [ 4.65984903e-02,  2.36819661e-03, -1.80421248e-02,\n",
       "          -5.72756976e-02, -3.66790220e-02]],\n",
       "\n",
       "        [[-8.62192363e-02, -5.48201837e-02, -8.62324014e-02,\n",
       "          -7.89897442e-02, -8.61620083e-02],\n",
       "         [-1.53848514e-01, -4.85784635e-02, -4.70718518e-02,\n",
       "           5.70383035e-02, -1.06742926e-01],\n",
       "         [-5.07293716e-02, -6.94098026e-02,  2.77850013e-02,\n",
       "           6.07547797e-02, -7.28059560e-02],\n",
       "         [-4.54858467e-02, -3.48271020e-02, -3.42754014e-02,\n",
       "           3.94774936e-02,  2.33544912e-02],\n",
       "         [ 7.14985207e-02,  3.65869235e-03, -1.00754209e-01,\n",
       "          -5.02940156e-02,  6.44453689e-02]],\n",
       "\n",
       "        ...,\n",
       "\n",
       "        [[ 1.62652154e-02,  4.65555228e-02,  8.47433880e-02,\n",
       "           7.14241117e-02,  4.48115207e-02],\n",
       "         [-9.70861409e-03, -7.85682723e-02,  1.48531180e-02,\n",
       "           8.95196050e-02,  1.17007844e-01],\n",
       "         [-4.83653992e-02, -5.95643818e-02,  4.65772906e-03,\n",
       "          -4.49144654e-03,  3.71371657e-02],\n",
       "         [-7.87882805e-02, -3.12379654e-02,  8.85822326e-02,\n",
       "           4.72654589e-03, -4.01834288e-04],\n",
       "         [ 3.98866199e-02, -2.23736335e-02,  5.67446537e-02,\n",
       "          -1.09669250e-02, -1.05625913e-02]],\n",
       "\n",
       "        [[-1.54197752e-01, -4.90258113e-02, -9.33336020e-02,\n",
       "           6.52711792e-03, -4.54122610e-02],\n",
       "         [-7.11752400e-02, -1.10244267e-01, -6.22620899e-03,\n",
       "          -6.55251518e-02, -1.89262759e-02],\n",
       "         [-7.27097839e-02, -5.94763570e-02, -1.12047963e-01,\n",
       "          -5.44367135e-02, -5.28086051e-02],\n",
       "         [-8.66346583e-02, -4.90806811e-02, -1.52863845e-01,\n",
       "          -7.97032639e-02, -1.54184885e-02],\n",
       "         [-9.78139462e-04, -3.81026939e-02,  1.38518559e-02,\n",
       "           2.34051049e-02, -3.63049805e-02]],\n",
       "\n",
       "        [[-3.26670380e-03,  6.92551583e-02, -1.28551265e-02,\n",
       "          -2.51427596e-03, -7.81489611e-02],\n",
       "         [-6.93882853e-02,  3.38098556e-02, -6.48163930e-02,\n",
       "          -7.82788545e-03, -7.08354637e-02],\n",
       "         [-1.05113320e-01,  3.65881100e-02, -3.08371149e-03,\n",
       "          -7.65782669e-02, -1.43477648e-01],\n",
       "         [-2.96411961e-02, -4.25338367e-04, -1.03976026e-01,\n",
       "          -9.17041153e-02, -1.52811855e-01],\n",
       "         [-7.11467713e-02, -1.35383353e-01,  4.76461416e-03,\n",
       "           4.67494652e-02, -2.49011326e-04]]],\n",
       "\n",
       "\n",
       "       [[[ 3.10704075e-02, -7.57976696e-02,  1.78905129e-02,\n",
       "           1.61137134e-02, -1.79652534e-02],\n",
       "         [ 4.92208004e-02,  6.77915104e-03,  6.43868297e-02,\n",
       "           3.59217934e-02,  7.36384764e-02],\n",
       "         [ 4.49879952e-02,  3.00867409e-02,  7.13505745e-02,\n",
       "          -4.05020081e-02, -1.47444606e-01],\n",
       "         [ 3.97729725e-02,  4.36778776e-02, -2.00827383e-02,\n",
       "           4.01776358e-02, -1.24150835e-01],\n",
       "         [ 5.50822243e-02,  5.00610657e-02, -7.55143613e-02,\n",
       "          -1.17240444e-01, -1.15048520e-01]],\n",
       "\n",
       "        [[-1.86161604e-02, -3.86785269e-02, -4.45716269e-02,\n",
       "          -3.51133980e-02, -1.46888360e-01],\n",
       "         [-1.41707286e-01, -9.26913619e-02, -1.08893901e-01,\n",
       "           7.82347051e-04, -7.59103224e-02],\n",
       "         [-1.41970858e-01, -1.60278141e-01, -1.44706964e-02,\n",
       "           7.14408234e-02,  1.45134315e-01],\n",
       "         [-1.44375369e-01,  2.32270379e-02,  8.81339386e-02,\n",
       "           7.05880523e-02,  7.67009631e-02],\n",
       "         [-6.74653277e-02,  7.00366795e-02,  3.92128564e-02,\n",
       "          -7.53786415e-03,  6.94320872e-02]],\n",
       "\n",
       "        [[ 7.80670941e-02, -2.08315160e-02,  4.32282612e-02,\n",
       "           8.06639344e-02,  5.89322485e-02],\n",
       "         [-8.07793066e-02, -4.94079441e-02, -6.66315705e-02,\n",
       "           3.30484193e-03, -7.83518478e-02],\n",
       "         [-4.84100543e-02,  7.15801073e-03,  1.47313327e-01,\n",
       "           1.55056249e-02,  5.81394359e-02],\n",
       "         [ 6.70811608e-02,  1.44217610e-01,  1.36717319e-01,\n",
       "          -4.10402007e-02, -3.74244265e-02],\n",
       "         [ 5.57503514e-02,  1.09986931e-01, -3.47446330e-04,\n",
       "          -1.58817414e-02, -1.32407099e-01]],\n",
       "\n",
       "        ...,\n",
       "\n",
       "        [[ 6.18927330e-02,  4.00759503e-02,  2.56578755e-02,\n",
       "          -5.02699465e-02,  2.19645482e-02],\n",
       "         [-5.41952550e-02, -3.28811072e-02, -6.48018159e-03,\n",
       "          -3.05001177e-02,  4.48513636e-03],\n",
       "         [-9.19147059e-02, -6.60044625e-02, -1.12685323e-01,\n",
       "           4.29663770e-02, -3.10988612e-02],\n",
       "         [-7.44001344e-02, -1.12667523e-01, -3.29578929e-02,\n",
       "          -1.08523520e-04,  4.50238399e-03],\n",
       "         [-2.21297401e-03, -6.21520542e-02, -1.35899886e-01,\n",
       "          -2.95840409e-02, -1.23072147e-01]],\n",
       "\n",
       "        [[ 2.91575193e-02,  1.40237123e-01,  1.27272010e-01,\n",
       "           1.47387788e-01,  6.37759566e-02],\n",
       "         [-4.88054045e-02,  8.31930190e-02,  1.82958081e-01,\n",
       "           5.59030473e-02, -6.53415127e-03],\n",
       "         [-1.14702895e-01,  1.92444529e-02,  1.06533103e-01,\n",
       "           1.91243038e-01,  7.81056732e-02],\n",
       "         [-1.65062681e-01, -7.91177675e-02,  7.90741742e-02,\n",
       "           6.12291247e-02,  6.05832925e-03],\n",
       "         [-1.04441188e-01, -1.44748734e-02,  1.01779185e-01,\n",
       "           8.43172595e-02,  1.25636563e-01]],\n",
       "\n",
       "        [[ 2.12532878e-02,  1.27748415e-01, -1.41330063e-01,\n",
       "          -4.82304096e-02, -7.77138993e-02],\n",
       "         [-2.51215580e-03, -1.99941304e-02, -8.26800093e-02,\n",
       "          -5.26630096e-02, -1.32161483e-01],\n",
       "         [-2.43278146e-02, -3.14501971e-02,  4.44836393e-02,\n",
       "           2.37565525e-02, -1.37375453e-02],\n",
       "         [-8.75377655e-02,  3.51423142e-03,  6.60628676e-02,\n",
       "           7.73381293e-02,  1.05299555e-01],\n",
       "         [ 2.56736502e-02,  1.16437249e-01,  9.01598483e-02,\n",
       "          -4.55862693e-02, -1.26153290e-01]]],\n",
       "\n",
       "\n",
       "       [[[-1.05375379e-01, -6.24237657e-02, -2.09305082e-02,\n",
       "          -3.59619968e-02,  1.88703556e-02],\n",
       "         [-1.98276758e-01, -1.22692503e-01, -7.73325711e-02,\n",
       "          -7.87451938e-02, -7.77636096e-02],\n",
       "         [-6.25379011e-03,  4.00606841e-02,  5.55396266e-02,\n",
       "           8.37091636e-03, -5.12517877e-02],\n",
       "         [ 4.00865115e-02,  7.47358352e-02,  5.91615289e-02,\n",
       "          -7.26542575e-03, -5.53682931e-02],\n",
       "         [-5.95810376e-02, -5.64315543e-02,  8.97679254e-02,\n",
       "          -3.42195034e-02, -4.88749966e-02]],\n",
       "\n",
       "        [[ 3.50509095e-03,  1.16192438e-02, -5.51426299e-02,\n",
       "           7.97291622e-02,  1.16120569e-01],\n",
       "         [ 2.35027131e-02,  1.43149465e-01,  1.07784092e-01,\n",
       "           1.31787494e-01,  5.75194508e-03],\n",
       "         [ 5.06336093e-02,  5.50505891e-02,  6.99508563e-02,\n",
       "          -1.41686732e-02,  4.81650792e-02],\n",
       "         [-1.27946332e-01, -1.05893709e-01, -1.10513158e-01,\n",
       "           4.76784483e-02,  1.20575167e-01],\n",
       "         [-3.27509902e-02, -5.57305701e-02, -3.29857576e-03,\n",
       "           5.10994606e-02,  6.31261319e-02]],\n",
       "\n",
       "        [[-1.57613933e-01, -5.73466048e-02, -1.44884646e-01,\n",
       "          -1.30926833e-01,  2.86225317e-04],\n",
       "         [ 6.35960773e-02, -9.85283405e-02, -8.35403427e-02,\n",
       "          -5.07400325e-03, -9.63416249e-02],\n",
       "         [ 1.56531796e-01,  9.69919339e-02,  4.02312391e-02,\n",
       "          -6.35538176e-02, -7.23958090e-02],\n",
       "         [ 4.52916473e-02,  1.04903169e-02,  5.02031296e-03,\n",
       "           5.75404279e-02,  4.98800576e-02],\n",
       "         [ 3.48014161e-02,  8.19953065e-03,  1.03397444e-02,\n",
       "           6.31789118e-02, -5.24566919e-02]],\n",
       "\n",
       "        ...,\n",
       "\n",
       "        [[-7.76894838e-02, -9.07793716e-02, -7.48202652e-02,\n",
       "          -1.04120903e-01,  1.15346983e-02],\n",
       "         [-4.30940315e-02,  3.91339660e-02, -8.66023675e-02,\n",
       "          -7.90238157e-02, -1.19993947e-01],\n",
       "         [ 3.24309990e-02, -2.24078237e-03, -5.73464669e-02,\n",
       "           7.33001754e-02, -4.03213464e-02],\n",
       "         [ 9.15213451e-02,  4.72098216e-02, -3.57592925e-02,\n",
       "           7.27435499e-02,  5.39083928e-02],\n",
       "         [ 1.16362892e-01,  1.08039984e-02,  1.35614173e-02,\n",
       "           4.07108329e-02,  1.69090065e-03]],\n",
       "\n",
       "        [[ 1.35777071e-01,  8.12141318e-03, -4.82913516e-02,\n",
       "          -1.89575478e-02,  1.05782971e-03],\n",
       "         [ 1.58661976e-01,  4.83373702e-02,  3.38841602e-02,\n",
       "           5.09077013e-02, -2.79147942e-02],\n",
       "         [-2.01703534e-02, -2.19869129e-02, -9.39938650e-02,\n",
       "          -1.45389184e-01, -1.21486997e-02],\n",
       "         [ 5.90575906e-03, -1.25302032e-01, -1.05643682e-01,\n",
       "          -3.20214257e-02, -1.16289243e-01],\n",
       "         [ 9.60116088e-02, -1.74252894e-02, -5.59351929e-02,\n",
       "           8.86680651e-03, -5.60844839e-02]],\n",
       "\n",
       "        [[-1.75800219e-01,  9.82965231e-02, -1.00037735e-02,\n",
       "           9.35662836e-02,  9.06512737e-02],\n",
       "         [-1.18050352e-01, -1.27250059e-02,  1.39868453e-01,\n",
       "           1.58289537e-01,  1.94626860e-02],\n",
       "         [-7.85524622e-02, -4.11312394e-02, -1.45722538e-01,\n",
       "          -8.78902897e-02, -1.36602119e-01],\n",
       "         [ 3.30823916e-03, -4.57618497e-02,  4.37866971e-02,\n",
       "           6.32580146e-02,  6.53384924e-02],\n",
       "         [-8.50186218e-03, -1.34336455e-02, -1.04091847e-02,\n",
       "           4.45806459e-02,  3.55605185e-02]]]], dtype=float32)"
      ]
     },
     "execution_count": 12,
     "metadata": {},
     "output_type": "execute_result"
    }
   ],
   "source": [
    "get_weights(model)[1]"
   ]
  },
  {
   "cell_type": "code",
   "execution_count": 16,
   "metadata": {},
   "outputs": [],
   "source": [
    "#copy model\n",
    "import copy\n",
    "model_copy = copy.deepcopy(model)\n"
   ]
  },
  {
   "cell_type": "code",
   "execution_count": 21,
   "metadata": {},
   "outputs": [],
   "source": [
    "#remove all weights smaller than 0.1 and round floats to 3 decimals\n",
    "for param in model_copy.parameters():\n",
    "    param.data[param.data.abs() < 0.1] = 0\n",
    "    param.data = torch.round(param.data * 1000) / 1000"
   ]
  },
  {
   "cell_type": "code",
   "execution_count": 22,
   "metadata": {},
   "outputs": [
    {
     "data": {
      "text/plain": [
       "array([[[[ 0.        ,  0.        ,  0.        ,  0.        ,\n",
       "           0.        ],\n",
       "         [ 0.        ,  0.        ,  0.        ,  0.141     ,\n",
       "           0.        ],\n",
       "         [ 0.        ,  0.        ,  0.        ,  0.        ,\n",
       "           0.        ],\n",
       "         [ 0.        , -0.123     ,  0.        ,  0.        ,\n",
       "           0.        ],\n",
       "         [ 0.        ,  0.        ,  0.        ,  0.        ,\n",
       "           0.        ]],\n",
       "\n",
       "        [[-0.11100001,  0.        ,  0.        ,  0.        ,\n",
       "           0.        ],\n",
       "         [ 0.        ,  0.12900001,  0.1       ,  0.        ,\n",
       "           0.        ],\n",
       "         [ 0.223     ,  0.        ,  0.        , -0.13700001,\n",
       "          -0.263     ],\n",
       "         [ 0.296     ,  0.        ,  0.        ,  0.        ,\n",
       "           0.        ],\n",
       "         [ 0.24000001,  0.112     ,  0.        ,  0.        ,\n",
       "           0.        ]],\n",
       "\n",
       "        [[ 0.        ,  0.        ,  0.        ,  0.        ,\n",
       "           0.136     ],\n",
       "         [ 0.16800001,  0.        ,  0.        ,  0.        ,\n",
       "           0.172     ],\n",
       "         [ 0.        ,  0.        ,  0.        , -0.12400001,\n",
       "           0.        ],\n",
       "         [ 0.        , -0.12      , -0.16700001, -0.19700001,\n",
       "          -0.11700001],\n",
       "         [ 0.        ,  0.        ,  0.        ,  0.        ,\n",
       "           0.        ]],\n",
       "\n",
       "        ...,\n",
       "\n",
       "        [[ 0.        ,  0.        ,  0.        ,  0.        ,\n",
       "           0.        ],\n",
       "         [ 0.        ,  0.        ,  0.        ,  0.        ,\n",
       "           0.        ],\n",
       "         [ 0.        ,  0.        ,  0.        ,  0.        ,\n",
       "           0.        ],\n",
       "         [ 0.        ,  0.        ,  0.        ,  0.        ,\n",
       "           0.        ],\n",
       "         [ 0.        ,  0.        ,  0.        ,  0.        ,\n",
       "           0.        ]],\n",
       "\n",
       "        [[-0.15300001,  0.        ,  0.        ,  0.        ,\n",
       "           0.        ],\n",
       "         [ 0.        ,  0.112     ,  0.        ,  0.        ,\n",
       "           0.        ],\n",
       "         [ 0.        ,  0.        ,  0.        ,  0.        ,\n",
       "           0.        ],\n",
       "         [ 0.        ,  0.        ,  0.        ,  0.        ,\n",
       "           0.        ],\n",
       "         [ 0.        ,  0.        ,  0.        ,  0.        ,\n",
       "           0.        ]],\n",
       "\n",
       "        [[ 0.        ,  0.        ,  0.127     ,  0.119     ,\n",
       "          -0.127     ],\n",
       "         [ 0.        ,  0.        ,  0.18400002,  0.18400002,\n",
       "           0.        ],\n",
       "         [ 0.171     ,  0.        ,  0.1       ,  0.        ,\n",
       "           0.        ],\n",
       "         [ 0.11700001,  0.        ,  0.        ,  0.        ,\n",
       "           0.        ],\n",
       "         [ 0.10200001,  0.        ,  0.        ,  0.        ,\n",
       "           0.        ]]],\n",
       "\n",
       "\n",
       "       [[[ 0.        , -0.136     ,  0.        ,  0.        ,\n",
       "           0.        ],\n",
       "         [ 0.        ,  0.        ,  0.126     ,  0.        ,\n",
       "           0.115     ],\n",
       "         [ 0.11800001,  0.        ,  0.        ,  0.        ,\n",
       "           0.        ],\n",
       "         [ 0.        ,  0.        ,  0.11300001,  0.        ,\n",
       "           0.        ],\n",
       "         [ 0.        ,  0.        ,  0.        ,  0.        ,\n",
       "           0.        ]],\n",
       "\n",
       "        [[ 0.        ,  0.104     ,  0.        , -0.11000001,\n",
       "          -0.15400001],\n",
       "         [ 0.        ,  0.        , -0.149     , -0.14400001,\n",
       "          -0.12900001],\n",
       "         [ 0.        , -0.20700002, -0.26200002, -0.192     ,\n",
       "           0.        ],\n",
       "         [ 0.        , -0.21300001, -0.186     ,  0.11000001,\n",
       "           0.141     ],\n",
       "         [ 0.        , -0.13700001,  0.        ,  0.        ,\n",
       "           0.        ]],\n",
       "\n",
       "        [[-0.18400002, -0.187     ,  0.        ,  0.        ,\n",
       "           0.        ],\n",
       "         [-0.17      , -0.10700001,  0.        ,  0.        ,\n",
       "           0.        ],\n",
       "         [-0.13000001,  0.        ,  0.        ,  0.        ,\n",
       "           0.        ],\n",
       "         [ 0.        ,  0.        ,  0.        ,  0.11400001,\n",
       "           0.        ],\n",
       "         [ 0.        ,  0.        ,  0.116     ,  0.10200001,\n",
       "          -0.127     ]],\n",
       "\n",
       "        ...,\n",
       "\n",
       "        [[ 0.        ,  0.        ,  0.        ,  0.        ,\n",
       "          -0.101     ],\n",
       "         [ 0.        ,  0.        ,  0.        ,  0.        ,\n",
       "           0.        ],\n",
       "         [ 0.        ,  0.11000001,  0.        ,  0.        ,\n",
       "           0.        ],\n",
       "         [ 0.11000001,  0.        ,  0.        ,  0.        ,\n",
       "           0.        ],\n",
       "         [ 0.        ,  0.        ,  0.        ,  0.        ,\n",
       "           0.        ]],\n",
       "\n",
       "        [[-0.126     ,  0.        ,  0.        ,  0.        ,\n",
       "           0.119     ],\n",
       "         [ 0.        ,  0.        ,  0.13900001,  0.155     ,\n",
       "           0.        ],\n",
       "         [ 0.        , -0.119     ,  0.        ,  0.104     ,\n",
       "           0.185     ],\n",
       "         [ 0.        ,  0.        ,  0.        ,  0.        ,\n",
       "           0.        ],\n",
       "         [-0.155     , -0.128     ,  0.        ,  0.        ,\n",
       "           0.10200001]],\n",
       "\n",
       "        [[ 0.        ,  0.        ,  0.        ,  0.        ,\n",
       "           0.        ],\n",
       "         [ 0.        ,  0.        ,  0.        ,  0.        ,\n",
       "           0.        ],\n",
       "         [ 0.        ,  0.        ,  0.        , -0.125     ,\n",
       "          -0.147     ],\n",
       "         [ 0.        ,  0.        ,  0.        ,  0.        ,\n",
       "           0.        ],\n",
       "         [ 0.        ,  0.        ,  0.        ,  0.163     ,\n",
       "           0.        ]]],\n",
       "\n",
       "\n",
       "       [[[ 0.        ,  0.        ,  0.        ,  0.        ,\n",
       "           0.        ],\n",
       "         [-0.123     ,  0.        ,  0.        ,  0.        ,\n",
       "           0.        ],\n",
       "         [ 0.        ,  0.        ,  0.        , -0.101     ,\n",
       "           0.        ],\n",
       "         [ 0.        ,  0.        ,  0.        ,  0.        ,\n",
       "          -0.12900001],\n",
       "         [ 0.        ,  0.        ,  0.        ,  0.        ,\n",
       "          -0.142     ]],\n",
       "\n",
       "        [[ 0.10300001,  0.        ,  0.        ,  0.        ,\n",
       "          -0.17      ],\n",
       "         [ 0.        ,  0.        ,  0.        ,  0.        ,\n",
       "           0.        ],\n",
       "         [ 0.        ,  0.143     ,  0.        ,  0.        ,\n",
       "           0.17500001],\n",
       "         [ 0.        ,  0.        ,  0.        ,  0.        ,\n",
       "           0.128     ],\n",
       "         [ 0.        ,  0.        ,  0.10600001,  0.104     ,\n",
       "           0.        ]],\n",
       "\n",
       "        [[ 0.        ,  0.        , -0.11100001,  0.        ,\n",
       "          -0.17400001],\n",
       "         [ 0.        , -0.116     , -0.18100001, -0.2       ,\n",
       "          -0.142     ],\n",
       "         [ 0.        ,  0.        ,  0.        ,  0.        ,\n",
       "           0.        ],\n",
       "         [ 0.        ,  0.        ,  0.        ,  0.        ,\n",
       "           0.        ],\n",
       "         [ 0.        ,  0.        ,  0.        ,  0.        ,\n",
       "           0.        ]],\n",
       "\n",
       "        ...,\n",
       "\n",
       "        [[ 0.        ,  0.        ,  0.        ,  0.        ,\n",
       "           0.        ],\n",
       "         [-0.12      ,  0.        ,  0.        ,  0.        ,\n",
       "           0.        ],\n",
       "         [ 0.        ,  0.        ,  0.        ,  0.        ,\n",
       "          -0.11800001],\n",
       "         [-0.12400001,  0.        ,  0.        , -0.109     ,\n",
       "          -0.125     ],\n",
       "         [ 0.        ,  0.        ,  0.        ,  0.        ,\n",
       "           0.        ]],\n",
       "\n",
       "        [[ 0.11100001,  0.        ,  0.128     ,  0.        ,\n",
       "           0.10300001],\n",
       "         [ 0.        ,  0.        ,  0.        ,  0.19000001,\n",
       "           0.109     ],\n",
       "         [ 0.        ,  0.        ,  0.        ,  0.        ,\n",
       "           0.14500001],\n",
       "         [ 0.        ,  0.        ,  0.        ,  0.104     ,\n",
       "           0.        ],\n",
       "         [ 0.        ,  0.        ,  0.1       ,  0.        ,\n",
       "           0.        ]],\n",
       "\n",
       "        [[ 0.        ,  0.        , -0.15      ,  0.        ,\n",
       "           0.        ],\n",
       "         [ 0.        ,  0.        ,  0.        ,  0.        ,\n",
       "           0.        ],\n",
       "         [ 0.        ,  0.11800001,  0.        ,  0.        ,\n",
       "           0.        ],\n",
       "         [ 0.        ,  0.        ,  0.15400001,  0.123     ,\n",
       "           0.        ],\n",
       "         [ 0.        ,  0.        ,  0.        ,  0.        ,\n",
       "           0.        ]]],\n",
       "\n",
       "\n",
       "       ...,\n",
       "\n",
       "\n",
       "       [[[ 0.12      ,  0.        ,  0.        ,  0.        ,\n",
       "           0.        ],\n",
       "         [ 0.        ,  0.        ,  0.        ,  0.        ,\n",
       "           0.        ],\n",
       "         [ 0.        ,  0.        ,  0.        ,  0.        ,\n",
       "           0.        ],\n",
       "         [ 0.        ,  0.        ,  0.        ,  0.        ,\n",
       "           0.        ],\n",
       "         [ 0.        ,  0.        ,  0.        ,  0.        ,\n",
       "           0.        ]],\n",
       "\n",
       "        [[ 0.        ,  0.        ,  0.        ,  0.        ,\n",
       "           0.        ],\n",
       "         [ 0.        ,  0.        ,  0.        ,  0.        ,\n",
       "           0.        ],\n",
       "         [-0.11000001,  0.        ,  0.        ,  0.        ,\n",
       "          -0.133     ],\n",
       "         [ 0.        ,  0.        ,  0.        , -0.1       ,\n",
       "           0.        ],\n",
       "         [ 0.        ,  0.        ,  0.        ,  0.        ,\n",
       "           0.        ]],\n",
       "\n",
       "        [[ 0.        ,  0.        ,  0.        ,  0.        ,\n",
       "           0.        ],\n",
       "         [-0.15400001,  0.        ,  0.        ,  0.        ,\n",
       "          -0.10700001],\n",
       "         [ 0.        ,  0.        ,  0.        ,  0.        ,\n",
       "           0.        ],\n",
       "         [ 0.        ,  0.        ,  0.        ,  0.        ,\n",
       "           0.        ],\n",
       "         [ 0.        ,  0.        , -0.101     ,  0.        ,\n",
       "           0.        ]],\n",
       "\n",
       "        ...,\n",
       "\n",
       "        [[ 0.        ,  0.        ,  0.        ,  0.        ,\n",
       "           0.        ],\n",
       "         [ 0.        ,  0.        ,  0.        ,  0.        ,\n",
       "           0.11700001],\n",
       "         [ 0.        ,  0.        ,  0.        ,  0.        ,\n",
       "           0.        ],\n",
       "         [ 0.        ,  0.        ,  0.        ,  0.        ,\n",
       "           0.        ],\n",
       "         [ 0.        ,  0.        ,  0.        ,  0.        ,\n",
       "           0.        ]],\n",
       "\n",
       "        [[-0.15400001,  0.        ,  0.        ,  0.        ,\n",
       "           0.        ],\n",
       "         [ 0.        , -0.11000001,  0.        ,  0.        ,\n",
       "           0.        ],\n",
       "         [ 0.        ,  0.        , -0.112     ,  0.        ,\n",
       "           0.        ],\n",
       "         [ 0.        ,  0.        , -0.15300001,  0.        ,\n",
       "           0.        ],\n",
       "         [ 0.        ,  0.        ,  0.        ,  0.        ,\n",
       "           0.        ]],\n",
       "\n",
       "        [[ 0.        ,  0.        ,  0.        ,  0.        ,\n",
       "           0.        ],\n",
       "         [ 0.        ,  0.        ,  0.        ,  0.        ,\n",
       "           0.        ],\n",
       "         [-0.105     ,  0.        ,  0.        ,  0.        ,\n",
       "          -0.143     ],\n",
       "         [ 0.        ,  0.        , -0.104     ,  0.        ,\n",
       "          -0.15300001],\n",
       "         [ 0.        , -0.135     ,  0.        ,  0.        ,\n",
       "           0.        ]]],\n",
       "\n",
       "\n",
       "       [[[ 0.        ,  0.        ,  0.        ,  0.        ,\n",
       "           0.        ],\n",
       "         [ 0.        ,  0.        ,  0.        ,  0.        ,\n",
       "           0.        ],\n",
       "         [ 0.        ,  0.        ,  0.        ,  0.        ,\n",
       "          -0.147     ],\n",
       "         [ 0.        ,  0.        ,  0.        ,  0.        ,\n",
       "          -0.12400001],\n",
       "         [ 0.        ,  0.        ,  0.        , -0.11700001,\n",
       "          -0.115     ]],\n",
       "\n",
       "        [[ 0.        ,  0.        ,  0.        ,  0.        ,\n",
       "          -0.147     ],\n",
       "         [-0.142     ,  0.        , -0.109     ,  0.        ,\n",
       "           0.        ],\n",
       "         [-0.142     , -0.16000001,  0.        ,  0.        ,\n",
       "           0.14500001],\n",
       "         [-0.14400001,  0.        ,  0.        ,  0.        ,\n",
       "           0.        ],\n",
       "         [ 0.        ,  0.        ,  0.        ,  0.        ,\n",
       "           0.        ]],\n",
       "\n",
       "        [[ 0.        ,  0.        ,  0.        ,  0.        ,\n",
       "           0.        ],\n",
       "         [ 0.        ,  0.        ,  0.        ,  0.        ,\n",
       "           0.        ],\n",
       "         [ 0.        ,  0.        ,  0.147     ,  0.        ,\n",
       "           0.        ],\n",
       "         [ 0.        ,  0.14400001,  0.13700001,  0.        ,\n",
       "           0.        ],\n",
       "         [ 0.        ,  0.11000001,  0.        ,  0.        ,\n",
       "          -0.132     ]],\n",
       "\n",
       "        ...,\n",
       "\n",
       "        [[ 0.        ,  0.        ,  0.        ,  0.        ,\n",
       "           0.        ],\n",
       "         [ 0.        ,  0.        ,  0.        ,  0.        ,\n",
       "           0.        ],\n",
       "         [ 0.        ,  0.        , -0.11300001,  0.        ,\n",
       "           0.        ],\n",
       "         [ 0.        , -0.11300001,  0.        ,  0.        ,\n",
       "           0.        ],\n",
       "         [ 0.        ,  0.        , -0.136     ,  0.        ,\n",
       "          -0.123     ]],\n",
       "\n",
       "        [[ 0.        ,  0.14      ,  0.127     ,  0.147     ,\n",
       "           0.        ],\n",
       "         [ 0.        ,  0.        ,  0.18300001,  0.        ,\n",
       "           0.        ],\n",
       "         [-0.115     ,  0.        ,  0.10700001,  0.19100001,\n",
       "           0.        ],\n",
       "         [-0.165     ,  0.        ,  0.        ,  0.        ,\n",
       "           0.        ],\n",
       "         [-0.104     ,  0.        ,  0.10200001,  0.        ,\n",
       "           0.126     ]],\n",
       "\n",
       "        [[ 0.        ,  0.128     , -0.141     ,  0.        ,\n",
       "           0.        ],\n",
       "         [ 0.        ,  0.        ,  0.        ,  0.        ,\n",
       "          -0.132     ],\n",
       "         [ 0.        ,  0.        ,  0.        ,  0.        ,\n",
       "           0.        ],\n",
       "         [ 0.        ,  0.        ,  0.        ,  0.        ,\n",
       "           0.105     ],\n",
       "         [ 0.        ,  0.116     ,  0.        ,  0.        ,\n",
       "          -0.126     ]]],\n",
       "\n",
       "\n",
       "       [[[-0.105     ,  0.        ,  0.        ,  0.        ,\n",
       "           0.        ],\n",
       "         [-0.19800001, -0.123     ,  0.        ,  0.        ,\n",
       "           0.        ],\n",
       "         [ 0.        ,  0.        ,  0.        ,  0.        ,\n",
       "           0.        ],\n",
       "         [ 0.        ,  0.        ,  0.        ,  0.        ,\n",
       "           0.        ],\n",
       "         [ 0.        ,  0.        ,  0.        ,  0.        ,\n",
       "           0.        ]],\n",
       "\n",
       "        [[ 0.        ,  0.        ,  0.        ,  0.        ,\n",
       "           0.116     ],\n",
       "         [ 0.        ,  0.143     ,  0.108     ,  0.132     ,\n",
       "           0.        ],\n",
       "         [ 0.        ,  0.        ,  0.        ,  0.        ,\n",
       "           0.        ],\n",
       "         [-0.128     , -0.10600001, -0.11100001,  0.        ,\n",
       "           0.12100001],\n",
       "         [ 0.        ,  0.        ,  0.        ,  0.        ,\n",
       "           0.        ]],\n",
       "\n",
       "        [[-0.158     ,  0.        , -0.14500001, -0.13100001,\n",
       "           0.        ],\n",
       "         [ 0.        ,  0.        ,  0.        ,  0.        ,\n",
       "           0.        ],\n",
       "         [ 0.157     ,  0.        ,  0.        ,  0.        ,\n",
       "           0.        ],\n",
       "         [ 0.        ,  0.        ,  0.        ,  0.        ,\n",
       "           0.        ],\n",
       "         [ 0.        ,  0.        ,  0.        ,  0.        ,\n",
       "           0.        ]],\n",
       "\n",
       "        ...,\n",
       "\n",
       "        [[ 0.        ,  0.        ,  0.        , -0.104     ,\n",
       "           0.        ],\n",
       "         [ 0.        ,  0.        ,  0.        ,  0.        ,\n",
       "          -0.12      ],\n",
       "         [ 0.        ,  0.        ,  0.        ,  0.        ,\n",
       "           0.        ],\n",
       "         [ 0.        ,  0.        ,  0.        ,  0.        ,\n",
       "           0.        ],\n",
       "         [ 0.116     ,  0.        ,  0.        ,  0.        ,\n",
       "           0.        ]],\n",
       "\n",
       "        [[ 0.136     ,  0.        ,  0.        ,  0.        ,\n",
       "           0.        ],\n",
       "         [ 0.15900001,  0.        ,  0.        ,  0.        ,\n",
       "           0.        ],\n",
       "         [ 0.        ,  0.        ,  0.        , -0.14500001,\n",
       "           0.        ],\n",
       "         [ 0.        , -0.125     , -0.10600001,  0.        ,\n",
       "          -0.116     ],\n",
       "         [ 0.        ,  0.        ,  0.        ,  0.        ,\n",
       "           0.        ]],\n",
       "\n",
       "        [[-0.17600001,  0.        ,  0.        ,  0.        ,\n",
       "           0.        ],\n",
       "         [-0.11800001,  0.        ,  0.14      ,  0.158     ,\n",
       "           0.        ],\n",
       "         [ 0.        ,  0.        , -0.14600001,  0.        ,\n",
       "          -0.13700001],\n",
       "         [ 0.        ,  0.        ,  0.        ,  0.        ,\n",
       "           0.        ],\n",
       "         [ 0.        ,  0.        ,  0.        ,  0.        ,\n",
       "           0.        ]]]], dtype=float32)"
      ]
     },
     "execution_count": 22,
     "metadata": {},
     "output_type": "execute_result"
    }
   ],
   "source": [
    "get_weights(model_copy)[1]"
   ]
  },
  {
   "cell_type": "code",
   "execution_count": 23,
   "metadata": {},
   "outputs": [],
   "source": [
    "def test2(model, device, test_loader):\n",
    "    model.eval()\n",
    "    test_loss = 0\n",
    "    correct = 0\n",
    "    with torch.no_grad():\n",
    "        for data, target in test_loader:\n",
    "            data, target = data.to(device), target.to(device)\n",
    "            output = model(data)\n",
    "            test_loss += F.nll_loss(output, target, reduction='sum').item() # sum up batch loss\n",
    "            pred = output.argmax(dim=1, keepdim=True) # get the index of the max log-probability\n",
    "            correct += pred.eq(target.view_as(pred)).sum().item()\n",
    "    test_loss /= len(test_loader.dataset)\n",
    "    #test_errors.append(test_loss)\n",
    "    \n",
    "    for i,w in enumerate(get_weights(model)):\n",
    "        f = gzip.GzipFile(\"compress.gz\", \"w\")\n",
    "        np.save(file=f, arr=w)\n",
    "        f.close()\n",
    "        np.save('normal.npy', w)\n",
    "        compressed_size = os.path.getsize('compress.gz')\n",
    "        normal_size = os.path.getsize('normal.npy')\n",
    "        #net_ratio[i].append(compressed_size/normal_size)\n",
    "        print('Layer {} : Compression ratio = {}'.format(i, compressed_size/normal_size))\n",
    "        os.remove('compress.gz')\n",
    "        os.remove('normal.npy')\n",
    "\n",
    "    print('\\nTest set: Average loss: {:.4f}, Accuracy: {}/{} ({:.0f}%)\\n'.format(\n",
    "        test_loss, correct, len(test_loader.dataset),\n",
    "        100. * correct / len(test_loader.dataset)))"
   ]
  },
  {
   "cell_type": "code",
   "execution_count": 24,
   "metadata": {},
   "outputs": [
    {
     "name": "stdout",
     "output_type": "stream",
     "text": [
      "Layer 0 : Compression ratio = 0.7278368794326241\n",
      "Layer 1 : Compression ratio = 0.16439785373608903\n",
      "\n",
      "Test set: Average loss: 0.6335, Accuracy: 8620/10000 (86%)\n",
      "\n"
     ]
    }
   ],
   "source": [
    "#test model\n",
    "test2(model_copy, device, test_loader)"
   ]
  },
  {
   "cell_type": "code",
   "execution_count": null,
   "metadata": {},
   "outputs": [],
   "source": []
  }
 ],
 "metadata": {
  "kernelspec": {
   "display_name": "Python 3 (ipykernel)",
   "language": "python",
   "name": "python3"
  },
  "language_info": {
   "codemirror_mode": {
    "name": "ipython",
    "version": 3
   },
   "file_extension": ".py",
   "mimetype": "text/x-python",
   "name": "python",
   "nbconvert_exporter": "python",
   "pygments_lexer": "ipython3",
   "version": "3.10.6"
  },
  "orig_nbformat": 4
 },
 "nbformat": 4,
 "nbformat_minor": 2
}
